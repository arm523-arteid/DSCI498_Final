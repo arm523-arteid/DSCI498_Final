{
 "cells": [
  {
   "metadata": {},
   "cell_type": "markdown",
   "source": "Bring in all necessary packages",
   "id": "a7cba42c90d85a68"
  },
  {
   "cell_type": "code",
   "id": "initial_id",
   "metadata": {
    "collapsed": true,
    "ExecuteTime": {
     "end_time": "2025-04-27T01:50:08.051672Z",
     "start_time": "2025-04-27T01:50:08.039975Z"
    }
   },
   "source": [
    "import pandas as pd\n",
    "import matplotlib.pyplot as plt"
   ],
   "outputs": [],
   "execution_count": 16
  },
  {
   "metadata": {},
   "cell_type": "markdown",
   "source": "Load the data",
   "id": "ad7a3f5c0cfa7bb"
  },
  {
   "metadata": {
    "ExecuteTime": {
     "end_time": "2025-04-27T01:50:10.164877Z",
     "start_time": "2025-04-27T01:50:09.877519Z"
    }
   },
   "cell_type": "code",
   "source": "train = pd.read_csv(r\"data/processed/train.csv\")",
   "id": "894ce857a2fb1f7c",
   "outputs": [],
   "execution_count": 17
  },
  {
   "metadata": {},
   "cell_type": "markdown",
   "source": "Explore the counts",
   "id": "db4f5f248b355713"
  },
  {
   "metadata": {
    "ExecuteTime": {
     "end_time": "2025-04-27T01:50:11.912513Z",
     "start_time": "2025-04-27T01:50:11.769668Z"
    }
   },
   "cell_type": "code",
   "source": [
    "unique_patients_by_state = train.groupby(\"STATE\")[\"PATIENT\"].nunique()\n",
    "#plot a bar chart\n",
    "ax = unique_patients_by_state.plot(kind=\"bar\", figsize=(5, 5))\n",
    "# Customize the plot\n",
    "plt.title(\"Number of Unique Patients by State\")\n",
    "plt.xlabel(\"State\")\n",
    "plt.ylabel(\"Number of Unique Patients\")\n",
    "plt.xticks(rotation=0)\n",
    "for bar in ax.patches:\n",
    "    height = bar.get_height()\n",
    "    ax.annotate(f'{height}',\n",
    "                xy=(bar.get_x() + bar.get_width() / 2, height),\n",
    "                xytext=(0, 3),\n",
    "                textcoords=\"offset points\",\n",
    "                ha='center', va='bottom')\n",
    "plt.show()"
   ],
   "id": "e2624b083471376f",
   "outputs": [
    {
     "data": {
      "text/plain": [
       "<Figure size 500x500 with 1 Axes>"
      ],
      "image/png": "[encoded data removed]"
     },
     "metadata": {},
     "output_type": "display_data"
    }
   ],
   "execution_count": 18
  },
  {
   "metadata": {
    "ExecuteTime": {
     "end_time": "2025-04-27T01:50:15.504164Z",
     "start_time": "2025-04-27T01:50:15.265467Z"
    }
   },
   "cell_type": "code",
   "source": [
    "states_order = [\"Pennsylvania\", \"Illinois\", \"Florida\", \"Texas\", \"California\", \"Total\"]\n",
    "def categorical_summary(sub_df, var):\n",
    "    counts = sub_df[var].value_counts(dropna=False)\n",
    "    percents = sub_df[var].value_counts(normalize=True, dropna=False) * 100\n",
    "    summary = counts.astype(str) + \" (\" + percents.round(1).astype(str) + \"%)\"\n",
    "    return summary\n",
    "\n",
    "def summarize_categorical(var):\n",
    "    summaries = {}\n",
    "    for state in [\"Pennsylvania\", \"Illinois\", \"Florida\", \"Texas\", \"California\"]:\n",
    "        sub = train[train[\"STATE\"] == state]\n",
    "        summaries[state] = categorical_summary(sub, var)\n",
    "    # Overall summary\n",
    "    summaries[\"Total\"] = categorical_summary(train, var)\n",
    "\n",
    "    df_summary = pd.DataFrame(summaries)\n",
    "    df_summary = df_summary[states_order]\n",
    "    return df_summary\n",
    "\n",
    "def summarize_continuous(var):\n",
    "    # List of stats to include\n",
    "    stats = [\"count\", \"mean\", \"median\", \"std\", \"min\", \"max\"]\n",
    "    summary_dict = {}\n",
    "    for state in [\"Pennsylvania\", \"Illinois\", \"Florida\", \"Texas\", \"California\"]:\n",
    "        sub = train[train[\"STATE\"] == state]\n",
    "        s = sub[var].describe()\n",
    "        summary_dict[state] = [sub[var].count(), s[\"mean\"], sub[var].median(), s[\"std\"], s[\"min\"], s[\"max\"]]\n",
    "    # Overall totals:\n",
    "    #s_total = patients_all[var].describe()\n",
    "    summary_dict[\"Total\"] = [train[var].count(), train[var].mean(), train[var].median(),\n",
    "                             train[var].std(), train[var].min(), train[var].max()]\n",
    "\n",
    "    df_summary = pd.DataFrame(summary_dict, index=stats)\n",
    "    df_summary = df_summary[states_order]\n",
    "    return df_summary\n",
    "\n",
    "def summarize_death():\n",
    "    # For DEATHDATE, if there's a death date, count them as dead\n",
    "    summary = {}\n",
    "    for state in [\"Pennsylvania\", \"Illinois\", \"Florida\", \"Texas\", \"California\"]:\n",
    "        sub = train[train[\"STATE\"] == state]\n",
    "        summary[state] = sub[\"DEATHDATE\"].notnull().sum()\n",
    "    summary[\"Total\"] = train[\"DEATHDATE\"].notnull().sum()\n",
    "    df_summary = pd.DataFrame(summary, index=[\"Dead Count\"])\n",
    "    df_summary = df_summary[states_order]\n",
    "    return df_summary\n",
    "\n",
    "#Print the tables\n",
    "print(\"Marital Status Summary:\")\n",
    "summary_marital = summarize_categorical(\"MARITAL\")\n",
    "print(summary_marital, \"\\n\")\n",
    "\n",
    "print(\"Race Summary:\")\n",
    "summary_race = summarize_categorical(\"RACE\")\n",
    "print(summary_race, \"\\n\")\n",
    "\n",
    "print(\"Ethnicity Summary:\")\n",
    "summary_ethnicity = summarize_categorical(\"ETHNICITY\")\n",
    "print(summary_ethnicity, \"\\n\")\n",
    "\n",
    "print(\"Gender Summary:\")\n",
    "summary_gender = summarize_categorical(\"GENDER\")\n",
    "print(summary_gender, \"\\n\")\n",
    "\n",
    "print(\"Income Summary (Continuous Variable):\")\n",
    "summary_income = summarize_continuous(\"INCOME\")\n",
    "print(summary_income, \"\\n\")\n",
    "\n",
    "print(\"Death (Dead Count) Summary:\")\n",
    "summary_death = summarize_death()\n",
    "print(summary_death, \"\\n\")\n"
   ],
   "id": "4dbf15a2f02375c1",
   "outputs": [
    {
     "name": "stdout",
     "output_type": "stream",
     "text": [
      "Marital Status Summary:\n",
      "        Pennsylvania     Illinois      Florida        Texas   California  \\\n",
      "MARITAL                                                                    \n",
      "M        817 (42.2%)  802 (41.7%)  836 (43.8%)  688 (37.9%)  731 (40.1%)   \n",
      "0        591 (30.5%)  639 (33.3%)  562 (29.4%)  681 (37.5%)  629 (34.5%)   \n",
      "S        271 (14.0%)  236 (12.3%)  261 (13.7%)  227 (12.5%)  250 (13.7%)   \n",
      "D        205 (10.6%)  194 (10.1%)   185 (9.7%)   162 (8.9%)   166 (9.1%)   \n",
      "W          51 (2.6%)    50 (2.6%)    65 (3.4%)    58 (3.2%)    47 (2.6%)   \n",
      "\n",
      "                Total  \n",
      "MARITAL                \n",
      "M        3874 (41.2%)  \n",
      "0        3102 (33.0%)  \n",
      "S        1245 (13.2%)  \n",
      "D          912 (9.7%)  \n",
      "W          271 (2.9%)   \n",
      "\n",
      "Race Summary:\n",
      "          Pennsylvania      Illinois       Florida         Texas  \\\n",
      "RACE                                                               \n",
      "asian        66 (3.4%)     94 (4.9%)     38 (2.0%)     80 (4.4%)   \n",
      "black      229 (11.8%)   288 (15.0%)   321 (16.8%)   214 (11.8%)   \n",
      "hawaiian     18 (0.9%)     21 (1.1%)     14 (0.7%)     17 (0.9%)   \n",
      "native        4 (0.2%)     10 (0.5%)      6 (0.3%)     12 (0.7%)   \n",
      "other        26 (1.3%)     20 (1.0%)     16 (0.8%)     20 (1.1%)   \n",
      "white     1592 (82.3%)  1488 (77.5%)  1514 (79.3%)  1473 (81.1%)   \n",
      "\n",
      "            California         Total  \n",
      "RACE                                  \n",
      "asian      278 (15.2%)    556 (5.9%)  \n",
      "black       137 (7.5%)  1189 (12.6%)  \n",
      "hawaiian     47 (2.6%)    117 (1.2%)  \n",
      "native       25 (1.4%)     57 (0.6%)  \n",
      "other        32 (1.8%)    114 (1.2%)  \n",
      "white     1304 (71.5%)  7371 (78.4%)   \n",
      "\n",
      "Ethnicity Summary:\n",
      "             Pennsylvania      Illinois       Florida         Texas  \\\n",
      "ETHNICITY                                                             \n",
      "nonhispanic  1801 (93.1%)  1600 (83.3%)  1390 (72.8%)  1079 (59.4%)   \n",
      "hispanic       134 (6.9%)   321 (16.7%)   519 (27.2%)   737 (40.6%)   \n",
      "\n",
      "               California         Total  \n",
      "ETHNICITY                                \n",
      "nonhispanic  1120 (61.4%)  6990 (74.3%)  \n",
      "hispanic      703 (38.6%)  2414 (25.7%)   \n",
      "\n",
      "Gender Summary:\n",
      "       Pennsylvania      Illinois      Florida        Texas   California  \\\n",
      "GENDER                                                                     \n",
      "F       961 (49.7%)   919 (47.8%)  920 (48.2%)  872 (48.0%)  913 (50.1%)   \n",
      "M       974 (50.3%)  1002 (52.2%)  989 (51.8%)  944 (52.0%)  910 (49.9%)   \n",
      "\n",
      "               Total  \n",
      "GENDER                \n",
      "F       4585 (48.8%)  \n",
      "M       4819 (51.2%)   \n",
      "\n",
      "Income Summary (Continuous Variable):\n",
      "         Pennsylvania       Illinois        Florida          Texas  \\\n",
      "count     1935.000000    1921.000000    1909.000000    1816.000000   \n",
      "mean     80344.882171   89788.543988   83434.980094   80948.827093   \n",
      "median   51052.000000   54551.000000   49108.000000   51153.500000   \n",
      "std     117480.649146  139645.487504  137063.556161  123067.028307   \n",
      "min        177.000000     128.000000      94.000000     120.000000   \n",
      "max     974788.000000  991559.000000  998410.000000  995231.000000   \n",
      "\n",
      "           California          Total  \n",
      "count     1823.000000    9404.000000  \n",
      "mean    111528.684037   89062.992131  \n",
      "median   60932.000000   53250.000000  \n",
      "std     171940.037026  139345.781640  \n",
      "min         20.000000      20.000000  \n",
      "max     987364.000000  998410.000000   \n",
      "\n",
      "Death (Dead Count) Summary:\n",
      "            Pennsylvania  Illinois  Florida  Texas  California  Total\n",
      "Dead Count          1935      1921     1909   1816        1823   9404 \n",
      "\n"
     ]
    }
   ],
   "execution_count": 19
  },
  {
   "metadata": {},
   "cell_type": "markdown",
   "source": [
    "Response Variable count (230 patients have a TRUE flagged. The rest will be set to False by Default)\n",
    "That's approximately 2.4%"
   ],
   "id": "b2175ef41e44024c"
  },
  {
   "metadata": {
    "ExecuteTime": {
     "end_time": "2025-04-27T01:50:27.235792Z",
     "start_time": "2025-04-27T01:50:27.222740Z"
    }
   },
   "cell_type": "code",
   "source": [
    "cvd_table = pd.crosstab(index=train[\"cvd_flag\"], columns=\"Count\")\n",
    "print(cvd_table)"
   ],
   "id": "40c1f12324d8c8e2",
   "outputs": [
    {
     "name": "stdout",
     "output_type": "stream",
     "text": [
      "col_0     Count\n",
      "cvd_flag       \n",
      "0          9174\n",
      "1           230\n"
     ]
    }
   ],
   "execution_count": 20
  }
 ],
 "metadata": {
  "kernelspec": {
   "display_name": "Python 3",
   "language": "python",
   "name": "python3"
  },
  "language_info": {
   "codemirror_mode": {
    "name": "ipython",
    "version": 2
   },
   "file_extension": ".py",
   "mimetype": "text/x-python",
   "name": "python",
   "nbconvert_exporter": "python",
   "pygments_lexer": "ipython2",
   "version": "2.7.6"
  }
 },
 "nbformat": 4,
 "nbformat_minor": 5
}
